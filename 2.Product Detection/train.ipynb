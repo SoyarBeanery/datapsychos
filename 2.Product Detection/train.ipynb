{
 "cells": [
  {
   "cell_type": "code",
   "execution_count": 25,
   "metadata": {},
   "outputs": [],
   "source": [
    "import numpy as np\n",
    "import tensorflow as tf\n",
    "from tensorflow import keras\n",
    "from tensorflow.keras import layers\n",
    "import glob\n",
    "from tqdm import tqdm\n",
    "from PIL import Image"
   ]
  },
  {
   "cell_type": "code",
   "execution_count": 48,
   "metadata": {
    "tags": []
   },
   "outputs": [
    {
     "output_type": "stream",
     "name": "stderr",
     "text": "7%|▋         | 3/42 [00:35<07:35, 11.68s/it]\n"
    },
    {
     "output_type": "error",
     "ename": "TypeError",
     "evalue": "unsupported operand type(s) for /: 'JpegImageFile' and 'int'",
     "traceback": [
      "\u001b[0;31m---------------------------------------------------------------------------\u001b[0m",
      "\u001b[0;31mTypeError\u001b[0m                                 Traceback (most recent call last)",
      "\u001b[0;32m<ipython-input-48-a117b6d8ca73>\u001b[0m in \u001b[0;36m<module>\u001b[0;34m\u001b[0m\n\u001b[1;32m      8\u001b[0m         \u001b[0mimage\u001b[0m \u001b[0;34m=\u001b[0m \u001b[0mImage\u001b[0m\u001b[0;34m.\u001b[0m\u001b[0mopen\u001b[0m\u001b[0;34m(\u001b[0m\u001b[0mimages\u001b[0m\u001b[0;34m[\u001b[0m\u001b[0mi\u001b[0m\u001b[0;34m]\u001b[0m\u001b[0;34m)\u001b[0m\u001b[0;34m\u001b[0m\u001b[0;34m\u001b[0m\u001b[0m\n\u001b[1;32m      9\u001b[0m         \u001b[0mnp_image\u001b[0m \u001b[0;34m=\u001b[0m \u001b[0mnp\u001b[0m\u001b[0;34m.\u001b[0m\u001b[0masarray\u001b[0m\u001b[0;34m(\u001b[0m\u001b[0mimage\u001b[0m\u001b[0;34m)\u001b[0m\u001b[0;34m\u001b[0m\u001b[0;34m\u001b[0m\u001b[0m\n\u001b[0;32m---> 10\u001b[0;31m         \u001b[0mnp_images\u001b[0m\u001b[0;34m.\u001b[0m\u001b[0mappend\u001b[0m\u001b[0;34m(\u001b[0m\u001b[0mnp_image\u001b[0m\u001b[0;34m/\u001b[0m\u001b[0;36m255\u001b[0m\u001b[0;34m)\u001b[0m\u001b[0;34m\u001b[0m\u001b[0;34m\u001b[0m\u001b[0m\n\u001b[0m\u001b[1;32m     11\u001b[0m         \u001b[0mnp_labels\u001b[0m\u001b[0;34m.\u001b[0m\u001b[0mappend\u001b[0m\u001b[0;34m(\u001b[0m\u001b[0mlabel\u001b[0m\u001b[0;34m)\u001b[0m\u001b[0;34m\u001b[0m\u001b[0;34m\u001b[0m\u001b[0m\n\u001b[1;32m     12\u001b[0m \u001b[0;34m\u001b[0m\u001b[0m\n",
      "\u001b[0;31mTypeError\u001b[0m: unsupported operand type(s) for /: 'JpegImageFile' and 'int'"
     ]
    }
   ],
   "source": [
    "np_images = []\n",
    "np_labels = []\n",
    "# SAMPLE = 2\n",
    "\n",
    "for label in tqdm(range(0,42)):\n",
    "    images = glob.glob(f\"resized_images/train/{label:02d}/*.jpg\")\n",
    "    for i in range(len(images)):\n",
    "        image = Image.open(images[i])\n",
    "        np_image = np.asarray(image)\n",
    "        np_images.append(np_image/255)\n",
    "        np_labels.append(label)\n",
    "\n",
    "print()\n",
    "print(len(np_images))\n",
    "data_x = np.asarray(np_images)\n",
    "data_y = np.asarray(np_labels)\n",
    "print(data_x.shape)\n",
    "print(data_y.shape)"
   ]
  },
  {
   "cell_type": "code",
   "execution_count": 42,
   "metadata": {},
   "outputs": [],
   "source": [
    "def get_model():\n",
    "    model = tf.keras.Sequential()\n",
    "\n",
    "    model.add(tf.keras.layers.Conv2D(filters = 32, kernel_size = 2, padding='same', activation = 'relu', input_shape = (224, 224, 3))) \n",
    "    model.add(tf.keras.layers.MaxPooling2D(pool_size = 2))\n",
    "    model.add(tf.keras.layers.Dropout(0.3))\n",
    "    model.add(tf.keras.layers.Conv2D(filters = 16, kernel_size = 2, padding = 'same', activation = 'relu'))\n",
    "    model.add(tf.keras.layers.MaxPooling2D(pool_size = 2))\n",
    "    model.add(tf.keras.layers.Dropout(0.3))\n",
    "    model.add(tf.keras.layers.Flatten())\n",
    "    model.add(tf.keras.layers.Dense(256, activation = 'relu'))\n",
    "    model.add(tf.keras.layers.Dropout(0.5))\n",
    "    model.add(tf.keras.layers.Dense(42, activation = 'softmax'))\n",
    "\n",
    "    # Take a look at the model summary\n",
    "    model.summary()\n",
    "    return model"
   ]
  },
  {
   "cell_type": "code",
   "execution_count": 43,
   "metadata": {
    "tags": []
   },
   "outputs": [
    {
     "output_type": "stream",
     "name": "stdout",
     "text": "Model: \"sequential_1\"\n_________________________________________________________________\nLayer (type)                 Output Shape              Param #   \n=================================================================\nconv2d_2 (Conv2D)            (None, 224, 224, 32)      416       \n_________________________________________________________________\nmax_pooling2d_2 (MaxPooling2 (None, 112, 112, 32)      0         \n_________________________________________________________________\ndropout_3 (Dropout)          (None, 112, 112, 32)      0         \n_________________________________________________________________\nconv2d_3 (Conv2D)            (None, 112, 112, 16)      2064      \n_________________________________________________________________\nmax_pooling2d_3 (MaxPooling2 (None, 56, 56, 16)        0         \n_________________________________________________________________\ndropout_4 (Dropout)          (None, 56, 56, 16)        0         \n_________________________________________________________________\nflatten_1 (Flatten)          (None, 50176)             0         \n_________________________________________________________________\ndense_2 (Dense)              (None, 256)               12845312  \n_________________________________________________________________\ndropout_5 (Dropout)          (None, 256)               0         \n_________________________________________________________________\ndense_3 (Dense)              (None, 42)                10794     \n=================================================================\nTotal params: 12,858,586\nTrainable params: 12,858,586\nNon-trainable params: 0\n_________________________________________________________________\n"
    }
   ],
   "source": [
    "model = get_model()"
   ]
  },
  {
   "cell_type": "code",
   "execution_count": 44,
   "metadata": {},
   "outputs": [],
   "source": [
    "model.compile(\n",
    "    optimizer = 'adam',\n",
    "    loss = tf.keras.losses.SparseCategoricalCrossentropy(from_logits=True),\n",
    "    metrics = ['accuracy']\n",
    ")"
   ]
  },
  {
   "cell_type": "code",
   "execution_count": 45,
   "metadata": {
    "tags": []
   },
   "outputs": [
    {
     "output_type": "stream",
     "name": "stdout",
     "text": "Epoch 1/10\n3/3 [==============================] - 2s 544ms/step - loss: 3.7646 - accuracy: 0.0000e+00\nEpoch 2/10\n3/3 [==============================] - 2s 533ms/step - loss: 3.7649 - accuracy: 0.0119\nEpoch 3/10\n3/3 [==============================] - 1s 495ms/step - loss: 3.7537 - accuracy: 0.0238\nEpoch 4/10\n3/3 [==============================] - 2s 530ms/step - loss: 3.7538 - accuracy: 0.0238\nEpoch 5/10\n3/3 [==============================] - 2s 517ms/step - loss: 3.7540 - accuracy: 0.0238\nEpoch 6/10\n3/3 [==============================] - 2s 507ms/step - loss: 3.7539 - accuracy: 0.0238\nEpoch 7/10\n3/3 [==============================] - 2s 548ms/step - loss: 3.7540 - accuracy: 0.0238\nEpoch 8/10\n3/3 [==============================] - 2s 509ms/step - loss: 3.7540 - accuracy: 0.0238\nEpoch 9/10\n3/3 [==============================] - 1s 455ms/step - loss: 3.7540 - accuracy: 0.0238\nEpoch 10/10\n3/3 [==============================] - 1s 483ms/step - loss: 3.7540 - accuracy: 0.0238\n"
    },
    {
     "output_type": "execute_result",
     "data": {
      "text/plain": "<tensorflow.python.keras.callbacks.History at 0x142ee3490>"
     },
     "metadata": {},
     "execution_count": 45
    }
   ],
   "source": [
    "model.fit(\n",
    "    x=data_x,\n",
    "    y=data_y,\n",
    "    epochs=10)"
   ]
  },
  {
   "cell_type": "code",
   "execution_count": 47,
   "metadata": {
    "tags": []
   },
   "outputs": [
    {
     "output_type": "stream",
     "name": "stdout",
     "text": "3/3 [==============================] - 1s 169ms/step - loss: 3.7540 - accuracy: 0.0238\n"
    },
    {
     "output_type": "execute_result",
     "data": {
      "text/plain": "[3.7539570331573486, 0.02380952425301075]"
     },
     "metadata": {},
     "execution_count": 47
    }
   ],
   "source": [
    "model.evaluate(\n",
    "    x=data_x,\n",
    "    y=data_y\n",
    ")"
   ]
  },
  {
   "cell_type": "code",
   "execution_count": null,
   "metadata": {},
   "outputs": [],
   "source": []
  }
 ],
 "metadata": {
  "language_info": {
   "codemirror_mode": {
    "name": "ipython",
    "version": 3
   },
   "file_extension": ".py",
   "mimetype": "text/x-python",
   "name": "python",
   "nbconvert_exporter": "python",
   "pygments_lexer": "ipython3",
   "version": "3.7.6-final"
  },
  "orig_nbformat": 2,
  "kernelspec": {
   "name": "python37664bittensorflowvenv8d3c7c3096dc48e786ad650f42f748df",
   "display_name": "Python 3.7.6 64-bit ('tensorflow': venv)"
  }
 },
 "nbformat": 4,
 "nbformat_minor": 2
}